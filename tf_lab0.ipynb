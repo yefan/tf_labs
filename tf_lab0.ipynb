{
  "nbformat": 4,
  "nbformat_minor": 0,
  "metadata": {
    "colab": {
      "name": "tf_lab0.ipynb",
      "version": "0.3.2",
      "provenance": [],
      "collapsed_sections": [],
      "toc_visible": true,
      "include_colab_link": true
    },
    "kernelspec": {
      "name": "python3",
      "display_name": "Python 3"
    }
  },
  "cells": [
    {
      "cell_type": "markdown",
      "metadata": {
        "id": "view-in-github",
        "colab_type": "text"
      },
      "source": [
        "<a href=\"https://colab.research.google.com/github/yefan/tf_labs/blob/master/tf_lab0.ipynb\" target=\"_parent\"><img src=\"https://colab.research.google.com/assets/colab-badge.svg\" alt=\"Open In Colab\"/></a>"
      ]
    },
    {
      "metadata": {
        "id": "t0YbzIGzwPcL",
        "colab_type": "text"
      },
      "cell_type": "markdown",
      "source": [
        "# The first section"
      ]
    },
    {
      "metadata": {
        "id": "Q847x3g_Nuhn",
        "colab_type": "text"
      },
      "cell_type": "markdown",
      "source": [
        "Practice with matrix data structure and solve in TF"
      ]
    },
    {
      "metadata": {
        "id": "RkEJvlVrvsyC",
        "colab_type": "code",
        "outputId": "731099c8-a3e4-44fa-ad48-69084dcd6bf3",
        "colab": {
          "base_uri": "https://localhost:8080/",
          "height": 51
        }
      },
      "cell_type": "code",
      "source": [
        "import tensorflow as tf\n",
        "\n",
        "mat1 = tf.constant([[1.0,2.0],[3.0,4.0]])\n",
        "rhs = tf.transpose(tf.constant([[5.0,6.0]]))\n",
        "\n",
        "solve = tf.matrix_solve(mat1, rhs)\n",
        "sess = tf.Session()\n",
        "result = sess.run(solve)\n",
        " \n",
        "print(result)"
      ],
      "execution_count": 24,
      "outputs": [
        {
          "output_type": "stream",
          "text": [
            "[[-4.000001 ]\n",
            " [ 4.5000005]]\n"
          ],
          "name": "stdout"
        }
      ]
    }
  ]
}