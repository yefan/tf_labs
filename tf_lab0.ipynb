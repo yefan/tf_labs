{
  "nbformat": 4,
  "nbformat_minor": 0,
  "metadata": {
    "colab": {
      "name": "tf_lab0.ipynb",
      "version": "0.3.2",
      "provenance": [],
      "collapsed_sections": [],
      "toc_visible": true,
      "include_colab_link": true
    },
    "kernelspec": {
      "name": "python3",
      "display_name": "Python 3"
    }
  },
  "cells": [
    {
      "cell_type": "markdown",
      "metadata": {
        "id": "view-in-github",
        "colab_type": "text"
      },
      "source": [
        "<a href=\"https://colab.research.google.com/github/yefan/tf_labs/blob/master/tf_lab0.ipynb\" target=\"_parent\"><img src=\"https://colab.research.google.com/assets/colab-badge.svg\" alt=\"Open In Colab\"/></a>"
      ]
    },
    {
      "metadata": {
        "id": "t0YbzIGzwPcL",
        "colab_type": "text"
      },
      "cell_type": "markdown",
      "source": [
        "# The first section"
      ]
    },
    {
      "metadata": {
        "id": "RkEJvlVrvsyC",
        "colab_type": "code",
        "outputId": "8b9d476b-51d4-4e62-efde-52d655ca4206",
        "colab": {
          "base_uri": "https://localhost:8080/",
          "height": 34
        }
      },
      "cell_type": "code",
      "source": [
        "import tensorflow as tf\n",
        "\n",
        "mat1 = tf.constant([[1.0,2.0],[3.0,4.0]])\n",
        "rhs = tf.constant([5.0,6.0])\n",
        "rhs = tf.reshape(rhs, [2,1])\n",
        "mat1inv = tf.matrix_inverse(mat1)\n",
        "sol = tf.matrix_solve(mat1, rhs)\n",
        "print(sol)"
      ],
      "execution_count": 0,
      "outputs": [
        {
          "output_type": "stream",
          "text": [
            "Tensor(\"MatrixSolve_6:0\", shape=(2, 1), dtype=float32)\n"
          ],
          "name": "stdout"
        }
      ]
    }
  ]
}